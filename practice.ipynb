{
 "cells": [
  {
   "cell_type": "code",
   "execution_count": 2,
   "id": "edcc9dc7",
   "metadata": {},
   "outputs": [
    {
     "name": "stdout",
     "output_type": "stream",
     "text": [
      "Enter your first name: Solomon\n",
      "Enter your last name: Lukeman\n",
      "Enter the year you were born: 1986\n",
      "Solomon Lukeman, you are 36 years old\n"
     ]
    }
   ],
   "source": [
    "fname = input(\"Enter your first name: \")\n",
    "lname = input(\"Enter your last name: \")\n",
    "birthyear   = int(input(\"Enter the year you were born: \"))\n",
    "\n",
    "age = 2022 - birthyear\n",
    "\n",
    "print(f\"{fname} {lname}, you are {age} years old\")\n"
   ]
  },
  {
   "cell_type": "markdown",
   "id": "eb60fba2",
   "metadata": {},
   "source": [
    "# BMI calculation"
   ]
  },
  {
   "cell_type": "markdown",
   "id": "1c9a4911",
   "metadata": {},
   "source": [
    "BMI = weight/height**2"
   ]
  },
  {
   "cell_type": "code",
   "execution_count": null,
   "id": "cd58485a",
   "metadata": {},
   "outputs": [],
   "source": [
    "weight = float(input(\"Enter your weight: \"))\n",
    "height = float(input(\"Enter your height: \"))\n",
    "unit_measurement = input(\"Enter the unit of measurement for weight- g,kg : \")\n",
    "#unit_measurement1 = input(\"Enter the unit of measurement for height- metres, feet: \")\n",
    "if unit_measurement == \"g\" :\n",
    "    bmi = (weight/1000)/height**2\n",
    "    \n",
    "elif unit_measurement == kg:\n",
    "    bmi = weight/height**2\n",
    "    print(f\"Your body mass index is {bmi}\")\n",
    "else:\n",
    "    print(\"Unit is unknown\")\n"
   ]
  },
  {
   "cell_type": "code",
   "execution_count": null,
   "id": "d2c6930e",
   "metadata": {},
   "outputs": [],
   "source": [
    "weight = float(input(\"Enter your weight: \"))\n",
    "height = float(input(\"Enter your height: \"))\n",
    "unit_measurement = input(\"Enter the unit of measurement for weight- g,kg : \")\n",
    "#unit_measurement1 = input(\"Enter the unit of measurement for height- metres, feet: \")\n",
    "#if unit_measurement == \"g\" :\n",
    "    "
   ]
  },
  {
   "cell_type": "code",
   "execution_count": null,
   "id": "5e0ae958",
   "metadata": {},
   "outputs": [],
   "source": [
    "weight = int(input(\"Enter your weight: \"))\n",
    "height = int(input(\"Enter your height: \"))\n",
    "bmi = weight/height**2\n",
    "print(bmi)"
   ]
  },
  {
   "cell_type": "code",
   "execution_count": null,
   "id": "39883727",
   "metadata": {},
   "outputs": [],
   "source": []
  },
  {
   "cell_type": "code",
   "execution_count": null,
   "id": "c44e1471",
   "metadata": {},
   "outputs": [],
   "source": []
  }
 ],
 "metadata": {
  "kernelspec": {
   "display_name": "Python 3 (ipykernel)",
   "language": "python",
   "name": "python3"
  },
  "language_info": {
   "codemirror_mode": {
    "name": "ipython",
    "version": 3
   },
   "file_extension": ".py",
   "mimetype": "text/x-python",
   "name": "python",
   "nbconvert_exporter": "python",
   "pygments_lexer": "ipython3",
   "version": "3.9.12"
  }
 },
 "nbformat": 4,
 "nbformat_minor": 5
}
