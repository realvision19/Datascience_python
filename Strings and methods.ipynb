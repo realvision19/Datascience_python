{
 "cells": [
  {
   "cell_type": "markdown",
   "id": "ffae348a",
   "metadata": {},
   "source": [
    "# Strings and methods"
   ]
  },
  {
   "cell_type": "code",
   "execution_count": 26,
   "id": "c71420fb",
   "metadata": {},
   "outputs": [
    {
     "name": "stdout",
     "output_type": "stream",
     "text": [
      "THE LORD IS GOOD\n",
      "the lord is good\n",
      "The Lord Is Good\n",
      "16\n",
      "The lord is good\n",
      "the lord is good\n",
      "_________________The Lord is good_________________\n",
      "3\n",
      "b'The Lord is good'\n",
      "False\n",
      "The Lord is good\n",
      "4\n",
      "The Lord is good 247\n",
      "True\n",
      "False\n"
     ]
    }
   ],
   "source": [
    "a = \"The Lord is good\"\n",
    "b = \"247\"\n",
    "print(a.upper())\n",
    "print(a.lower())\n",
    "print(a.title())\n",
    "print(len(a))\n",
    "print(a.capitalize())\n",
    "print(a.casefold())\n",
    "print(a.center(50,'_'))\n",
    "print(a.count('o'))\n",
    "print(a.encode())\n",
    "print(a.endswith('.'))\n",
    "print(a.expandtabs(5))\n",
    "print(a.find(\"Lord\"))\n",
    "print(\"{} {}\". format(a,b))\n",
    "print(b.isalnum())\n",
    "print(a.isalpha())"
   ]
  },
  {
   "cell_type": "code",
   "execution_count": 3,
   "id": "e005e04a",
   "metadata": {},
   "outputs": [
    {
     "data": {
      "text/plain": [
       "'F'"
      ]
     },
     "execution_count": 3,
     "metadata": {},
     "output_type": "execute_result"
    }
   ],
   "source": [
    "chr(70)"
   ]
  },
  {
   "cell_type": "code",
   "execution_count": 6,
   "id": "003873b7",
   "metadata": {},
   "outputs": [
    {
     "data": {
      "text/plain": [
       "97"
      ]
     },
     "execution_count": 6,
     "metadata": {},
     "output_type": "execute_result"
    }
   ],
   "source": [
    "ord('a')"
   ]
  },
  {
   "cell_type": "code",
   "execution_count": 9,
   "id": "84326ce8",
   "metadata": {},
   "outputs": [
    {
     "name": "stdout",
     "output_type": "stream",
     "text": [
      "************************************************************\n",
      "============================================================\n"
     ]
    }
   ],
   "source": [
    "a = '*'\n",
    "print('*' * 60)\n",
    "print('='* 60)"
   ]
  },
  {
   "cell_type": "code",
   "execution_count": 10,
   "id": "aa83c2b8",
   "metadata": {},
   "outputs": [
    {
     "ename": "NameError",
     "evalue": "name 'random' is not defined",
     "output_type": "error",
     "traceback": [
      "\u001b[1;31m---------------------------------------------------------------------------\u001b[0m",
      "\u001b[1;31mNameError\u001b[0m                                 Traceback (most recent call last)",
      "Input \u001b[1;32mIn [10]\u001b[0m, in \u001b[0;36m<cell line: 1>\u001b[1;34m()\u001b[0m\n\u001b[1;32m----> 1\u001b[0m \u001b[43mrandom\u001b[49m\u001b[38;5;241m.\u001b[39mRandom(\u001b[38;5;241m20\u001b[39m)\n",
      "\u001b[1;31mNameError\u001b[0m: name 'random' is not defined"
     ]
    }
   ],
   "source": [
    "random.Random(20)"
   ]
  },
  {
   "cell_type": "code",
   "execution_count": 11,
   "id": "c0131358",
   "metadata": {},
   "outputs": [
    {
     "name": "stdout",
     "output_type": "stream",
     "text": [
      "['BPF', 'LOG4', 'NV_MAGICCONST', 'RECIP_BPF', 'Random', 'SG_MAGICCONST', 'SystemRandom', 'TWOPI', '_Sequence', '_Set', '__all__', '__builtins__', '__cached__', '__doc__', '__file__', '__loader__', '__name__', '__package__', '__spec__', '_accumulate', '_acos', '_bisect', '_ceil', '_cos', '_e', '_exp', '_floor', '_inst', '_log', '_os', '_pi', '_random', '_repeat', '_sha512', '_sin', '_sqrt', '_test', '_test_generator', '_urandom', '_warn', 'betavariate', 'choice', 'choices', 'expovariate', 'gammavariate', 'gauss', 'getrandbits', 'getstate', 'lognormvariate', 'normalvariate', 'paretovariate', 'randbytes', 'randint', 'random', 'randrange', 'sample', 'seed', 'setstate', 'shuffle', 'triangular', 'uniform', 'vonmisesvariate', 'weibullvariate']\n"
     ]
    }
   ],
   "source": [
    "import random\n",
    "print(dir(random))"
   ]
  },
  {
   "cell_type": "code",
   "execution_count": 21,
   "id": "4b6f426f",
   "metadata": {},
   "outputs": [
    {
     "name": "stdout",
     "output_type": "stream",
     "text": [
      "17\n"
     ]
    }
   ],
   "source": [
    "as = print(random.randint(0,30))"
   ]
  },
  {
   "cell_type": "code",
   "execution_count": 55,
   "id": "8544b092",
   "metadata": {},
   "outputs": [
    {
     "name": "stdout",
     "output_type": "stream",
     "text": [
      "0.739280341063315\n",
      "0.12571817400440388\n",
      "0.6162338302317604\n",
      "0.7642797281224929\n",
      "0.7804371080496404\n",
      "0.5173007439163341\n",
      "0.2708557197689113\n",
      "0.1625005109949481\n",
      "0.7368842938419536\n",
      "0.6335102066544896\n"
     ]
    }
   ],
   "source": [
    "for i in  range(10):\n",
    "    print(random.random())"
   ]
  },
  {
   "cell_type": "code",
   "execution_count": 56,
   "id": "5b7aa3ac",
   "metadata": {},
   "outputs": [
    {
     "name": "stdout",
     "output_type": "stream",
     "text": [
      "6.4712493635341195\n",
      "3.759309130390415\n",
      "3.478893044297124\n",
      "3.2412439268086604\n",
      "3.1425160242750603\n",
      "3.0232048153329205\n",
      "4.593154964979655\n",
      "4.029090781845529\n",
      "3.5167473949004697\n",
      "5.025886836227213\n"
     ]
    }
   ],
   "source": [
    "def mu_random():\n",
    "    return 4*random.random() + 3\n",
    "for i in range(10):\n",
    "    print(mu_random())"
   ]
  },
  {
   "cell_type": "code",
   "execution_count": 58,
   "id": "fe9a67d0",
   "metadata": {},
   "outputs": [
    {
     "name": "stdout",
     "output_type": "stream",
     "text": [
      "4.956183231319141\n",
      "3.6874854095778224\n",
      "4.106862569042474\n",
      "3.998345496891188\n",
      "6.315850249598008\n",
      "3.1545821464538983\n",
      "5.427764150524376\n",
      "6.661890890186141\n",
      "5.985941435638658\n",
      "5.35892468342221\n"
     ]
    }
   ],
   "source": [
    "for i in range(10):\n",
    "    print(random.uniform(3,7))"
   ]
  },
  {
   "cell_type": "code",
   "execution_count": 60,
   "id": "e65e1489",
   "metadata": {},
   "outputs": [
    {
     "name": "stdout",
     "output_type": "stream",
     "text": [
      "1.7512733730195555\n",
      "-1.408671688295044\n",
      "0.08972319475379109\n",
      "0.4625539772006241\n",
      "-0.8424062537935122\n",
      "0.8845564862146588\n",
      "2.2949058314388084\n",
      "2.1163070161748836\n",
      "1.3394807822499843\n",
      "1.5548939005900673\n",
      "1.096903609502096\n",
      "3.850451166082089\n",
      "5.017260674577205\n",
      "1.9764479283584229\n",
      "0.6587982512363482\n",
      "4.087358475549253\n",
      "-0.2993786653931618\n",
      "-1.5689677731412228\n",
      "1.0805566210264914\n",
      "3.690381509389117\n"
     ]
    }
   ],
   "source": [
    "for i in range(20):\n",
    "    print(random.normalvariate(1,2))"
   ]
  },
  {
   "cell_type": "code",
   "execution_count": 63,
   "id": "10c39b7d",
   "metadata": {},
   "outputs": [
    {
     "name": "stdout",
     "output_type": "stream",
     "text": [
      "1\n",
      "4\n",
      "4\n",
      "4\n",
      "3\n",
      "1\n",
      "4\n",
      "1\n",
      "2\n",
      "3\n",
      "2\n",
      "2\n",
      "3\n",
      "1\n",
      "1\n",
      "4\n",
      "1\n",
      "4\n",
      "1\n",
      "4\n"
     ]
    }
   ],
   "source": [
    "for i in range(20):\n",
    "    print(random.randint(1, 4))"
   ]
  },
  {
   "cell_type": "code",
   "execution_count": 69,
   "id": "63fb4c5a",
   "metadata": {},
   "outputs": [
    {
     "name": "stdout",
     "output_type": "stream",
     "text": [
      "Phone\n",
      "Scissors\n",
      "Rock\n",
      "Phone\n"
     ]
    }
   ],
   "source": [
    "choic = ['Rock', 'Paper', 'Scissors', 'Phone']\n",
    "\n",
    "for i in choic:\n",
    "    print(random.choice(choic))"
   ]
  },
  {
   "cell_type": "code",
   "execution_count": 70,
   "id": "2b9ef2aa",
   "metadata": {},
   "outputs": [
    {
     "name": "stdout",
     "output_type": "stream",
     "text": [
      "<class 'complex'>\n"
     ]
    }
   ],
   "source": [
    "a = 2 + 5.3j\n",
    "print(type(a))"
   ]
  },
  {
   "cell_type": "code",
   "execution_count": 71,
   "id": "6a08f281",
   "metadata": {},
   "outputs": [
    {
     "name": "stdout",
     "output_type": "stream",
     "text": [
      "2.0\n"
     ]
    }
   ],
   "source": [
    "print(a.real)"
   ]
  },
  {
   "cell_type": "code",
   "execution_count": 72,
   "id": "64507abb",
   "metadata": {},
   "outputs": [
    {
     "name": "stdout",
     "output_type": "stream",
     "text": [
      "5.3\n"
     ]
    }
   ],
   "source": [
    "print(a.imag)"
   ]
  },
  {
   "cell_type": "code",
   "execution_count": 73,
   "id": "3cdcdce7",
   "metadata": {},
   "outputs": [
    {
     "name": "stdout",
     "output_type": "stream",
     "text": [
      "<built-in function dir>\n"
     ]
    }
   ],
   "source": [
    "print(dir)"
   ]
  },
  {
   "cell_type": "code",
   "execution_count": 74,
   "id": "142a386f",
   "metadata": {},
   "outputs": [
    {
     "name": "stdout",
     "output_type": "stream",
     "text": [
      "Type help() for interactive help, or help(object) for help about object.\n"
     ]
    }
   ],
   "source": [
    "print(help)"
   ]
  },
  {
   "cell_type": "code",
   "execution_count": 75,
   "id": "49cd30f0",
   "metadata": {},
   "outputs": [
    {
     "name": "stdout",
     "output_type": "stream",
     "text": [
      "\n",
      "Welcome to Python 3.9's help utility!\n",
      "\n",
      "If this is your first time using Python, you should definitely check out\n",
      "the tutorial on the Internet at https://docs.python.org/3.9/tutorial/.\n",
      "\n",
      "Enter the name of any module, keyword, or topic to get help on writing\n",
      "Python programs and using Python modules.  To quit this help utility and\n",
      "return to the interpreter, just type \"quit\".\n",
      "\n",
      "To get a list of available modules, keywords, symbols, or topics, type\n",
      "\"modules\", \"keywords\", \"symbols\", or \"topics\".  Each module also comes\n",
      "with a one-line summary of what it does; to list the modules whose name\n",
      "or summary contain a given string such as \"spam\", type \"modules spam\".\n",
      "\n",
      "help> modules\n",
      "\n",
      "Please wait a moment while I gather a list of all available modules...\n",
      "\n"
     ]
    },
    {
     "name": "stderr",
     "output_type": "stream",
     "text": [
      "WARNING: AstropyDeprecationWarning: The private astropy._erfa module has been made into its own package, pyerfa, which is a dependency of astropy and can be imported directly using \"import erfa\" [astropy._erfa]\n",
      "Matplotlib is building the font cache; this may take a moment.\n",
      "C:\\Users\\PC\\anaconda3\\lib\\site-packages\\nltk\\twitter\\__init__.py:20: UserWarning: The twython library has not been installed. Some functionality from the twitter package will not be available.\n",
      "  warnings.warn(\n",
      "C:\\Users\\PC\\anaconda3\\lib\\site-packages\\_distutils_hack\\__init__.py:30: UserWarning: Setuptools is replacing distutils.\n",
      "  warnings.warn(\"Setuptools is replacing distutils.\")\n"
     ]
    },
    {
     "name": "stdout",
     "output_type": "stream",
     "text": [
      "Update LANGUAGE_CODES (inside config/base.py) if a new translation has been added to Spyder\n"
     ]
    },
    {
     "name": "stderr",
     "output_type": "stream",
     "text": [
      "No QCoreApplication instance found. Application patches not applied. You have to call load_stylesheet function after instantiation of QApplication to take effect. \n",
      "C:\\Users\\PC\\anaconda3\\lib\\pkgutil.py:108: VisibleDeprecationWarning:\n",
      "\n",
      "zmq.eventloop.minitornado is deprecated in pyzmq 14.0 and will be removed.\n",
      "    Install tornado itself to use zmq with the tornado IOLoop.\n",
      "    \n",
      "\n"
     ]
    },
    {
     "name": "stdout",
     "output_type": "stream",
     "text": [
      "Cython              colorsys            mock                sniffio\n",
      "IPython             commctrl            modulefinder        snowballstemmer\n",
      "OpenSSL             compileall          mpmath              socket\n",
      "PIL                 comtypes            msgpack             socketserver\n",
      "PyQt5               concurrent          msilib              socks\n",
      "TBB                 conda               msvcrt              sockshandler\n",
      "__future__          conda_build         multidict           sortedcollections\n",
      "_abc                conda_content_trust multipledispatch    sortedcontainers\n",
      "_aix_support        conda_env           multiprocessing     soupsieve\n",
      "_argon2_cffi_bindings conda_pack          munkres             sphinx\n",
      "_ast                conda_package_handling mypy_extensions     spyder\n",
      "_asyncio            conda_token         mysql               spyder_kernels\n",
      "_bisect             conda_verify        mysqlx              sql\n",
      "_black_version      configparser        nacl                sqlalchemy\n",
      "_blake2             constantly          navigator_updater   sqlite3\n",
      "_bootlocale         contextlib          nbclassic           sqlparse\n",
      "_bootsubprocess     contextvars         nbclient            sre_compile\n",
      "_bz2                cookiecutter        nbconvert           sre_constants\n",
      "_cffi_backend       copy                nbformat            sre_parse\n",
      "_codecs             copyreg             nest_asyncio        ssl\n",
      "_codecs_cn          crypt               netbios             sspi\n",
      "_codecs_hk          cryptography        netrc               sspicon\n",
      "_codecs_iso2022     cssselect           networkx            stack_data\n",
      "_codecs_jp          csv                 nltk                stat\n",
      "_codecs_kr          ctypes              nntplib             statistics\n",
      "_codecs_tw          curl                nose                statsmodels\n",
      "_collections        curses              notebook            string\n",
      "_collections_abc    cwp                 nt                  stringprep\n",
      "_compat_pickle      cycler              ntpath              struct\n",
      "_compression        cython              ntsecuritycon       subprocess\n",
      "_contextvars        cytoolz             nturl2path          sunau\n",
      "_csv                daal4py             numba               symbol\n",
      "_ctypes             dask                numbergen           sympy\n",
      "_ctypes_test        dataclasses         numbers             symtable\n",
      "_datetime           datashader          numexpr             sys\n",
      "_decimal            datashape           numpy               sysconfig\n",
      "_distutils_hack     datetime            numpydoc            tables\n",
      "_elementtree        dateutil            odbc                tabnanny\n",
      "_functools          dbi                 olefile             tabulate\n",
      "_hashlib            dbm                 onedal              tarfile\n",
      "_heapq              dde                 opcode              tbb\n",
      "_imp                debugpy             openpyxl            tblib\n",
      "_io                 decimal             operator            telnetlib\n",
      "_json               decorator           optparse            tempfile\n",
      "_locale             defusedxml          os                  tenacity\n",
      "_lsprof             diff_match_patch    packaging           terminado\n",
      "_lzma               difflib             pandas              test\n",
      "_markupbase         dis                 pandocfilters       test_pycosat\n",
      "_md5                distributed         panel               testpath\n",
      "_msi                distutils           param               text_unidecode\n",
      "_multibytecodec     doctest             paramiko            textdistance\n",
      "_multiprocessing    docutils            parsel              textwrap\n",
      "_mysql_connector    email               parser              this\n",
      "_mysqlxpb           encodings           parso               threading\n",
      "_nsis               ensurepip           partd               threadpoolctl\n",
      "_opcode             entrypoints         past                three_merge\n",
      "_operator           enum                pathlib             tifffile\n",
      "_osx_support        erfa                pathspec            time\n",
      "_overlapped         errno               patsy               timeit\n",
      "_peg_parser         et_xmlfile          pdb                 timer\n",
      "_pickle             executing           pep8                tinycss\n",
      "_plotly_future_     fastjsonschema      perfmon             tkinter\n",
      "_plotly_utils       faulthandler        pexpect             tldextract\n",
      "_py_abc             filecmp             pickle              tlz\n",
      "_pydecimal          fileinput           pickleshare         token\n",
      "_pyio               filelock            pickletools         tokenize\n",
      "_pyrsistent_version flake8              pip                 toml\n",
      "_pytest             flask               pipes               tomli\n",
      "_queue              fnmatch             pkg_resources       toolz\n",
      "_random             fontTools           pkginfo             tornado\n",
      "_sha1               formatter           pkgutil             tqdm\n",
      "_sha256             fractions           platform            trace\n",
      "_sha3               frozenlist          plistlib            traceback\n",
      "_sha512             fsspec              plotly              tracemalloc\n",
      "_signal             ftplib              pluggy              traitlets\n",
      "_sitebuiltins       functools           poplib              tty\n",
      "_socket             future              posixpath           turtle\n",
      "_sqlite3            gc                  poyo                turtledemo\n",
      "_sre                genericpath         pprint              twisted\n",
      "_ssl                gensim              prettytable         typed_ast\n",
      "_stat               getopt              profile             types\n",
      "_statistics         getpass             prometheus_client   typing\n",
      "_string             gettext             prompt_toolkit      typing_extensions\n",
      "_strptime           glob                protego             ujson\n",
      "_struct             glob2               pstats              unicodedata\n",
      "_symtable           google_crc32c       psutil              unidecode\n",
      "_system_path        graphlib            psycopg2            unittest\n",
      "_testbuffer         greenlet            pty                 urllib\n",
      "_testcapi           grpc                ptyprocess          urllib3\n",
      "_testconsole        gzip                pure_eval           uu\n",
      "_testimportmultiple h5py                pvectorc            uuid\n",
      "_testinternalcapi   hamcrest            py                  venv\n",
      "_testmultiphase     hashlib             py_compile          w3lib\n",
      "_thread             heapdict            pyasn1              warnings\n",
      "_threading_local    heapq               pyasn1_modules      watchdog\n",
      "_tkinter            hmac                pyclbr              wave\n",
      "_tracemalloc        holoviews           pycodestyle         wcwidth\n",
      "_uuid               html                pycosat             weakref\n",
      "_warnings           http                pycparser           webbrowser\n",
      "_weakref            hvplot              pyct                webencodings\n",
      "_weakrefset         hyperlink           pycurl              websocket\n",
      "_win32sysloader     idlelib             pydispatch          werkzeug\n",
      "_winapi             idna                pydoc               wheel\n",
      "_winxptheme         imagecodecs         pydoc_data          widgetsnbextension\n",
      "_xxsubinterpreters  imageio             pydocstyle          win2kras\n",
      "_yaml               imagesize           pyexpat             win32api\n",
      "_zoneinfo           imaplib             pyflakes            win32clipboard\n",
      "abc                 imghdr              pygments            win32com\n",
      "adodbapi            imp                 pylab               win32con\n",
      "afxres              importlib           pylint              win32console\n",
      "aifc                importlib_metadata  pyls_spyder         win32cred\n",
      "aiohttp             incremental         pylsp               win32crypt\n",
      "aiosignal           inflection          pylsp_black         win32cryptcon\n",
      "alabaster           iniconfig           pylsp_jsonrpc       win32ctypes\n",
      "anaconda_navigator  inspect             pyodbc              win32event\n",
      "anaconda_project    intake              pyparsing           win32evtlog\n",
      "antigravity         intervaltree        pyreadline          win32evtlogutil\n",
      "anyio               io                  pyrsistent          win32file\n",
      "appdirs             ipaddress           pytest              win32gui\n",
      "argon2              ipykernel           pythoncom           win32gui_struct\n",
      "argparse            ipykernel_launcher  pytz                win32help\n",
      "array               ipython_genutils    pyviz_comms         win32inet\n",
      "arrow               ipywidgets          pywin               win32inetcon\n",
      "ast                 isapi               pywin32_bootstrap   win32job\n",
      "astroid             isort               pywin32_testutil    win32lz\n",
      "astropy             isympy              pywintypes          win32net\n",
      "asttokens           itemadapter         pywt                win32netcon\n",
      "async_timeout       itemloaders         pyximport           win32pdh\n",
      "asynchat            itertools           qdarkstyle          win32pdhquery\n",
      "asyncio             itsdangerous        qstylizer           win32pdhutil\n",
      "asyncore            jdcal               qtawesome           win32pipe\n",
      "atexit              jedi                qtconsole           win32print\n",
      "atomicwrites        jinja2              qtpy                win32process\n",
      "attr                jinja2_time         queue               win32profile\n",
      "attrs               jmespath            queuelib            win32ras\n",
      "audioop             joblib              quopri              win32rcparser\n",
      "automat             json                random              win32security\n",
      "autopep8            json5               rasutil             win32service\n",
      "babel               jsonschema          re                  win32serviceutil\n",
      "backcall            jupyter             readline            win32timezone\n",
      "backports           jupyter_client      regcheck            win32trace\n",
      "base64              jupyter_console     regex               win32traceutil\n",
      "bcrypt              jupyter_core        regutil             win32transaction\n",
      "bdb                 jupyter_server      repo_cli            win32ts\n",
      "binaryornot         jupyterlab          reprlib             win32ui\n",
      "binascii            jupyterlab_plotly   requests            win32uiole\n",
      "binhex              jupyterlab_pygments requests_file       win32verstamp\n",
      "binstar_client      jupyterlab_server   rlcompleter         win32wnet\n",
      "bisect              jupyterlab_widgets  rope                win_inet_pton\n",
      "bitarray            jwt                 rsa                 win_unicode_console\n",
      "bkcharts            keyring             rtree               wincertstore\n",
      "black               keyword             ruamel_yaml         winerror\n",
      "blackd              kiwisolver          run                 winioctlcon\n",
      "bleach              lazy_object_proxy   runpy               winnt\n",
      "blib2to3            lib2to3             s3transfer          winperf\n",
      "bokeh               libarchive          sched               winpty\n",
      "boto3               libfuturize         scipy               winreg\n",
      "botocore            libpasteurize       scrapy              winsound\n",
      "bottleneck          lief                seaborn             winxpgui\n",
      "brotli              linecache           secrets             winxptheme\n",
      "bs4                 llvmlite            select              wrapt\n",
      "builtins            locale              selectors           wsgiref\n",
      "bz2                 locket              send2trash          xarray\n",
      "cProfile            logging             service_identity    xdrlib\n",
      "cachetools          lxml                servicemanager      xlrd\n",
      "calendar            lzma                setuptools          xlsxwriter\n",
      "certifi             mailbox             shelve              xlwings\n",
      "cffi                mailcap             shlex               xml\n",
      "cgi                 markdown            shutil              xmlrpc\n",
      "cgitb               markupsafe          signal              xxsubtype\n",
      "chardet             marshal             sip                 yaml\n",
      "charset_normalizer  math                sipconfig           yapf\n",
      "chunk               matplotlib          sipdistutils        yapftests\n",
      "click               matplotlib_inline   site                yarl\n",
      "cloudpickle         mccabe              six                 zict\n",
      "clyent              menuinst            skimage             zipapp\n",
      "cmath               mimetypes           sklearn             zipfile\n",
      "cmd                 mistune             sklearnex           zipimport\n",
      "code                mkl                 slugify             zipp\n",
      "codecs              mkl_fft             smart_open          zlib\n",
      "codeop              mkl_random          smtpd               zmq\n",
      "collections         mmap                smtplib             zoneinfo\n",
      "colorama            mmapfile            snappy              zope\n",
      "colorcet            mmsystem            sndhdr              \n",
      "\n",
      "Enter any module name to get more help.  Or, type \"modules spam\" to search\n",
      "for modules whose name or summary contain the string \"spam\".\n",
      "\n"
     ]
    },
    {
     "name": "stdout",
     "output_type": "stream",
     "text": [
      "\n",
      "You are now leaving help and returning to the Python interpreter.\n",
      "If you want to ask for help on a particular object directly from the\n",
      "interpreter, you can type \"help(object)\".  Executing \"help('string')\"\n",
      "has the same effect as typing a particular string at the help> prompt.\n",
      "None\n"
     ]
    }
   ],
   "source": [
    "print(help())"
   ]
  },
  {
   "cell_type": "code",
   "execution_count": 78,
   "id": "d0797f8a",
   "metadata": {},
   "outputs": [
    {
     "name": "stdout",
     "output_type": "stream",
     "text": [
      "['MAXYEAR', 'MINYEAR', '__all__', '__builtins__', '__cached__', '__doc__', '__file__', '__loader__', '__name__', '__package__', '__spec__', 'date', 'datetime', 'datetime_CAPI', 'sys', 'time', 'timedelta', 'timezone', 'tzinfo']\n"
     ]
    }
   ],
   "source": [
    "import datetime\n",
    "print(dir(datetime))"
   ]
  },
  {
   "cell_type": "code",
   "execution_count": 81,
   "id": "025e1872",
   "metadata": {},
   "outputs": [
    {
     "name": "stdout",
     "output_type": "stream",
     "text": [
      "['__add__', '__class__', '__delattr__', '__dir__', '__doc__', '__eq__', '__format__', '__ge__', '__getattribute__', '__gt__', '__hash__', '__init__', '__init_subclass__', '__le__', '__lt__', '__ne__', '__new__', '__radd__', '__reduce__', '__reduce_ex__', '__repr__', '__rsub__', '__setattr__', '__sizeof__', '__str__', '__sub__', '__subclasshook__', 'ctime', 'day', 'fromisocalendar', 'fromisoformat', 'fromordinal', 'fromtimestamp', 'isocalendar', 'isoformat', 'isoweekday', 'max', 'min', 'month', 'replace', 'resolution', 'strftime', 'timetuple', 'today', 'toordinal', 'weekday', 'year']\n"
     ]
    }
   ],
   "source": [
    "print(dir(datetime.date))"
   ]
  },
  {
   "cell_type": "code",
   "execution_count": 82,
   "id": "d10459d9",
   "metadata": {},
   "outputs": [
    {
     "name": "stdout",
     "output_type": "stream",
     "text": [
      "Help on class date in module datetime:\n",
      "\n",
      "class date(builtins.object)\n",
      " |  date(year, month, day) --> date object\n",
      " |  \n",
      " |  Methods defined here:\n",
      " |  \n",
      " |  __add__(self, value, /)\n",
      " |      Return self+value.\n",
      " |  \n",
      " |  __eq__(self, value, /)\n",
      " |      Return self==value.\n",
      " |  \n",
      " |  __format__(...)\n",
      " |      Formats self with strftime.\n",
      " |  \n",
      " |  __ge__(self, value, /)\n",
      " |      Return self>=value.\n",
      " |  \n",
      " |  __getattribute__(self, name, /)\n",
      " |      Return getattr(self, name).\n",
      " |  \n",
      " |  __gt__(self, value, /)\n",
      " |      Return self>value.\n",
      " |  \n",
      " |  __hash__(self, /)\n",
      " |      Return hash(self).\n",
      " |  \n",
      " |  __le__(self, value, /)\n",
      " |      Return self<=value.\n",
      " |  \n",
      " |  __lt__(self, value, /)\n",
      " |      Return self<value.\n",
      " |  \n",
      " |  __ne__(self, value, /)\n",
      " |      Return self!=value.\n",
      " |  \n",
      " |  __radd__(self, value, /)\n",
      " |      Return value+self.\n",
      " |  \n",
      " |  __reduce__(...)\n",
      " |      __reduce__() -> (cls, state)\n",
      " |  \n",
      " |  __repr__(self, /)\n",
      " |      Return repr(self).\n",
      " |  \n",
      " |  __rsub__(self, value, /)\n",
      " |      Return value-self.\n",
      " |  \n",
      " |  __str__(self, /)\n",
      " |      Return str(self).\n",
      " |  \n",
      " |  __sub__(self, value, /)\n",
      " |      Return self-value.\n",
      " |  \n",
      " |  ctime(...)\n",
      " |      Return ctime() style string.\n",
      " |  \n",
      " |  isocalendar(...)\n",
      " |      Return a named tuple containing ISO year, week number, and weekday.\n",
      " |  \n",
      " |  isoformat(...)\n",
      " |      Return string in ISO 8601 format, YYYY-MM-DD.\n",
      " |  \n",
      " |  isoweekday(...)\n",
      " |      Return the day of the week represented by the date.\n",
      " |      Monday == 1 ... Sunday == 7\n",
      " |  \n",
      " |  replace(...)\n",
      " |      Return date with new specified fields.\n",
      " |  \n",
      " |  strftime(...)\n",
      " |      format -> strftime() style string.\n",
      " |  \n",
      " |  timetuple(...)\n",
      " |      Return time tuple, compatible with time.localtime().\n",
      " |  \n",
      " |  toordinal(...)\n",
      " |      Return proleptic Gregorian ordinal.  January 1 of year 1 is day 1.\n",
      " |  \n",
      " |  weekday(...)\n",
      " |      Return the day of the week represented by the date.\n",
      " |      Monday == 0 ... Sunday == 6\n",
      " |  \n",
      " |  ----------------------------------------------------------------------\n",
      " |  Class methods defined here:\n",
      " |  \n",
      " |  fromisocalendar(...) from builtins.type\n",
      " |      int, int, int -> Construct a date from the ISO year, week number and weekday.\n",
      " |      \n",
      " |      This is the inverse of the date.isocalendar() function\n",
      " |  \n",
      " |  fromisoformat(...) from builtins.type\n",
      " |      str -> Construct a date from the output of date.isoformat()\n",
      " |  \n",
      " |  fromordinal(...) from builtins.type\n",
      " |      int -> date corresponding to a proleptic Gregorian ordinal.\n",
      " |  \n",
      " |  fromtimestamp(timestamp, /) from builtins.type\n",
      " |      Create a date from a POSIX timestamp.\n",
      " |      \n",
      " |      The timestamp is a number, e.g. created via time.time(), that is interpreted\n",
      " |      as local time.\n",
      " |  \n",
      " |  today(...) from builtins.type\n",
      " |      Current date or datetime:  same as self.__class__.fromtimestamp(time.time()).\n",
      " |  \n",
      " |  ----------------------------------------------------------------------\n",
      " |  Static methods defined here:\n",
      " |  \n",
      " |  __new__(*args, **kwargs) from builtins.type\n",
      " |      Create and return a new object.  See help(type) for accurate signature.\n",
      " |  \n",
      " |  ----------------------------------------------------------------------\n",
      " |  Data descriptors defined here:\n",
      " |  \n",
      " |  day\n",
      " |  \n",
      " |  month\n",
      " |  \n",
      " |  year\n",
      " |  \n",
      " |  ----------------------------------------------------------------------\n",
      " |  Data and other attributes defined here:\n",
      " |  \n",
      " |  max = datetime.date(9999, 12, 31)\n",
      " |  \n",
      " |  min = datetime.date(1, 1, 1)\n",
      " |  \n",
      " |  resolution = datetime.timedelta(days=1)\n",
      "\n",
      "None\n"
     ]
    }
   ],
   "source": [
    "print(help(datetime.date))"
   ]
  },
  {
   "cell_type": "code",
   "execution_count": 85,
   "id": "7c5cc4fa",
   "metadata": {},
   "outputs": [
    {
     "name": "stdout",
     "output_type": "stream",
     "text": [
      "1944-04-04\n"
     ]
    }
   ],
   "source": [
    "fcn = datetime.date(1944,4,4)\n",
    "print(fcn)"
   ]
  },
  {
   "cell_type": "code",
   "execution_count": 86,
   "id": "cf011b97",
   "metadata": {},
   "outputs": [
    {
     "name": "stdout",
     "output_type": "stream",
     "text": [
      "1944\n"
     ]
    }
   ],
   "source": [
    "print(fcn.year)"
   ]
  },
  {
   "cell_type": "code",
   "execution_count": 87,
   "id": "aa59731d",
   "metadata": {},
   "outputs": [
    {
     "name": "stdout",
     "output_type": "stream",
     "text": [
      "4\n"
     ]
    }
   ],
   "source": [
    "print(fcn.month)"
   ]
  },
  {
   "cell_type": "code",
   "execution_count": 88,
   "id": "2e12d713",
   "metadata": {},
   "outputs": [
    {
     "name": "stdout",
     "output_type": "stream",
     "text": [
      "4\n"
     ]
    }
   ],
   "source": [
    "print(fcn.day)"
   ]
  },
  {
   "cell_type": "code",
   "execution_count": 89,
   "id": "f679492d",
   "metadata": {},
   "outputs": [
    {
     "name": "stdout",
     "output_type": "stream",
     "text": [
      "1999-12-11\n"
     ]
    }
   ],
   "source": [
    "mill = datetime.date(1999, 4,5)\n",
    "dt = datetime.timedelta(250)\n",
    "print(mill + dt)"
   ]
  },
  {
   "cell_type": "code",
   "execution_count": null,
   "id": "ec143008",
   "metadata": {},
   "outputs": [],
   "source": []
  }
 ],
 "metadata": {
  "kernelspec": {
   "display_name": "Python 3 (ipykernel)",
   "language": "python",
   "name": "python3"
  },
  "language_info": {
   "codemirror_mode": {
    "name": "ipython",
    "version": 3
   },
   "file_extension": ".py",
   "mimetype": "text/x-python",
   "name": "python",
   "nbconvert_exporter": "python",
   "pygments_lexer": "ipython3",
   "version": "3.9.12"
  }
 },
 "nbformat": 4,
 "nbformat_minor": 5
}
