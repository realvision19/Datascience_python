{
 "cells": [
  {
   "cell_type": "code",
   "execution_count": null,
   "id": "04ba0d34",
   "metadata": {},
   "outputs": [],
   "source": []
  },
  {
   "cell_type": "code",
   "execution_count": 3,
   "id": "54075282",
   "metadata": {},
   "outputs": [
    {
     "name": "stdout",
     "output_type": "stream",
     "text": [
      "Enter your weight: 60\n",
      "Enter your height: 148\n",
      "Your bmi is 0.002739225712198685 and you are underweight.\n",
      "Do you want tips on how to increase your weight? yes or no: yes\n",
      "\"1. Eat a lot more.\n",
      "                  2. Drink a lot of water\n",
      "                  3. Sleep at least 8 to 10 hours daily\n"
     ]
    }
   ],
   "source": [
    "weight = float(input(\"Enter your weight: \"))\n",
    "height = float(input(\"Enter your height: \"))\n",
    "bmi = weight/height**2\n",
    "\n",
    "if bmi >=25:\n",
    "    print(f\"Your bmi is {bmi} and you are overweight.\")\n",
    "    bn = input(\"Do you want tips on how to reduce your weight? yes or no: \").lower()\n",
    "    if bn == \"yes\":\n",
    "        print(\"Do not eat late at night\")\n",
    "    else:\n",
    "        print(\"Thank you\")\n",
    "elif bmi>=15 and bmi<=24:\n",
    "    print(f\"Your bmi is {bmi} and you are okay.\")\n",
    "    bn = input(\"Do you want tips on how to okay? yes or no: \").lower()\n",
    "    if bn == \"yes\":\n",
    "        print(\"\"\"\"1. Do not eat late at night\n",
    "                  2. Exercise at least three times weekly\n",
    "                  3. Drink a lot of water\"\"\")\n",
    "    else:\n",
    "        print(\"Thank you\")\n",
    "else:\n",
    "    print(f\"Your bmi is {bmi} and you are underweight.\")\n",
    "    bn = input(\"Do you want tips on how to increase your weight? yes or no: \").lower()\n",
    "    if bn == \"yes\":\n",
    "        print(\"\"\"\"1. Eat a lot more.\n",
    "                  2. Drink a lot of water\n",
    "                  3. Sleep at least 8 to 10 hours daily\"\"\")\n",
    "    else:\n",
    "        print(\"Thank you\")"
   ]
  },
  {
   "cell_type": "code",
   "execution_count": 5,
   "id": "0000dc88",
   "metadata": {},
   "outputs": [
    {
     "name": "stdout",
     "output_type": "stream",
     "text": [
      "Languages:\n",
      "\tPython\n",
      "\tC\n",
      "\tJava\n"
     ]
    }
   ],
   "source": [
    "print(\"Languages:\")\n",
    "print(\"\\tPython\\n\\tC\\n\\tJava\")\n"
   ]
  },
  {
   "cell_type": "code",
   "execution_count": 7,
   "id": "1e32560c",
   "metadata": {},
   "outputs": [
    {
     "name": "stdout",
     "output_type": "stream",
     "text": [
      "The Zen of Python, by Tim Peters\n",
      "\n",
      "Beautiful is better than ugly.\n",
      "Explicit is better than implicit.\n",
      "Simple is better than complex.\n",
      "Complex is better than complicated.\n",
      "Flat is better than nested.\n",
      "Sparse is better than dense.\n",
      "Readability counts.\n",
      "Special cases aren't special enough to break the rules.\n",
      "Although practicality beats purity.\n",
      "Errors should never pass silently.\n",
      "Unless explicitly silenced.\n",
      "In the face of ambiguity, refuse the temptation to guess.\n",
      "There should be one-- and preferably only one --obvious way to do it.\n",
      "Although that way may not be obvious at first unless you're Dutch.\n",
      "Now is better than never.\n",
      "Although never is often better than *right* now.\n",
      "If the implementation is hard to explain, it's a bad idea.\n",
      "If the implementation is easy to explain, it may be a good idea.\n",
      "Namespaces are one honking great idea -- let's do more of those!\n"
     ]
    }
   ],
   "source": [
    "import this\n"
   ]
  },
  {
   "cell_type": "code",
   "execution_count": null,
   "id": "57f752f2",
   "metadata": {},
   "outputs": [],
   "source": []
  },
  {
   "cell_type": "code",
   "execution_count": null,
   "id": "bff003b6",
   "metadata": {},
   "outputs": [],
   "source": []
  },
  {
   "cell_type": "code",
   "execution_count": null,
   "id": "9f4e1c2f",
   "metadata": {},
   "outputs": [],
   "source": []
  },
  {
   "cell_type": "code",
   "execution_count": null,
   "id": "d39011ad",
   "metadata": {},
   "outputs": [],
   "source": []
  },
  {
   "cell_type": "code",
   "execution_count": null,
   "id": "c50449db",
   "metadata": {},
   "outputs": [],
   "source": []
  },
  {
   "cell_type": "code",
   "execution_count": null,
   "id": "348d2712",
   "metadata": {},
   "outputs": [],
   "source": []
  }
 ],
 "metadata": {
  "kernelspec": {
   "display_name": "Python 3 (ipykernel)",
   "language": "python",
   "name": "python3"
  },
  "language_info": {
   "codemirror_mode": {
    "name": "ipython",
    "version": 3
   },
   "file_extension": ".py",
   "mimetype": "text/x-python",
   "name": "python",
   "nbconvert_exporter": "python",
   "pygments_lexer": "ipython3",
   "version": "3.9.12"
  }
 },
 "nbformat": 4,
 "nbformat_minor": 5
}
