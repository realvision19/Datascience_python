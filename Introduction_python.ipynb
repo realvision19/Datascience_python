{
 "cells": [
  {
   "cell_type": "markdown",
   "id": "25399caf",
   "metadata": {},
   "source": [
    "1. Variables and data types\n",
    "2. List and list methods\n",
    "3. Strings and methods\n",
    "3b. Modeling\n",
    "4. loops (for loops and while loops)\n",
    "5. List comprehension\n",
    "6. Dictionary (objects), dictionary methods and tuples\n",
    "7. Functions\n",
    "8. Classes and object oriented programming\n",
    "9. Connecting and working with database\n",
    "10. File operations\n"
   ]
  },
  {
   "cell_type": "markdown",
   "id": "e3e6cbde",
   "metadata": {},
   "source": [
    "# Data science with python"
   ]
  },
  {
   "cell_type": "markdown",
   "id": "166a8953",
   "metadata": {},
   "source": [
    "1. Series and DataFrames\n",
    "2. Pandas and numpy\n",
    "3. Seaborn and matplotlib (visualization)\n",
    "4. Regression analysis(linear regression)\n",
    "5. Time series modelling (Arima, sarima, linear regression time series model)"
   ]
  },
  {
   "cell_type": "markdown",
   "id": "bfe43bda",
   "metadata": {},
   "source": [
    "# Deployments"
   ]
  },
  {
   "cell_type": "markdown",
   "id": "bd883e87",
   "metadata": {},
   "source": [
    "1. Introduction to python flask\n",
    "2. Writing containerized applications (docker Kubernetics)\n",
    "3. Testing and retesting application"
   ]
  },
  {
   "cell_type": "markdown",
   "id": "3c7c8262",
   "metadata": {},
   "source": [
    "# Projects"
   ]
  },
  {
   "cell_type": "markdown",
   "id": "e1d2c138",
   "metadata": {},
   "source": [
    "1. Recommendation system\n",
    "2. Sales forecast for any organization\n",
    "3. Church membership forecast based on church programs\n",
    "4. Forex and cypto bots"
   ]
  },
  {
   "cell_type": "code",
   "execution_count": null,
   "id": "1a3d5436",
   "metadata": {},
   "outputs": [],
   "source": []
  }
 ],
 "metadata": {
  "kernelspec": {
   "display_name": "Python 3 (ipykernel)",
   "language": "python",
   "name": "python3"
  },
  "language_info": {
   "codemirror_mode": {
    "name": "ipython",
    "version": 3
   },
   "file_extension": ".py",
   "mimetype": "text/x-python",
   "name": "python",
   "nbconvert_exporter": "python",
   "pygments_lexer": "ipython3",
   "version": "3.9.12"
  }
 },
 "nbformat": 4,
 "nbformat_minor": 5
}
