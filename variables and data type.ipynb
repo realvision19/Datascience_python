{
 "cells": [
  {
   "cell_type": "code",
   "execution_count": 1,
   "id": "79c3bad8",
   "metadata": {},
   "outputs": [
    {
     "name": "stdout",
     "output_type": "stream",
     "text": [
      "5\n"
     ]
    }
   ],
   "source": [
    "print(5)"
   ]
  },
  {
   "cell_type": "code",
   "execution_count": 4,
   "id": "bcbc136c",
   "metadata": {},
   "outputs": [
    {
     "name": "stdout",
     "output_type": "stream",
     "text": [
      "<class 'bool'>\n"
     ]
    }
   ],
   "source": [
    "print(type(False))"
   ]
  },
  {
   "cell_type": "markdown",
   "id": "47f529c5",
   "metadata": {},
   "source": [
    "types of data\n",
    "float\n",
    "integer\n",
    "boolean\n",
    "\n",
    "Variables are placeholders or containers for holding data\n",
    "\n"
   ]
  },
  {
   "cell_type": "code",
   "execution_count": 5,
   "id": "1182eb9c",
   "metadata": {},
   "outputs": [
    {
     "name": "stdout",
     "output_type": "stream",
     "text": [
      "Enter a value 1:23\n",
      "Enter a value 2:45\n",
      "2345\n"
     ]
    }
   ],
   "source": [
    "print(input(\"Enter a value 1:\") + input(\"Enter a value 2:\"))"
   ]
  },
  {
   "cell_type": "code",
   "execution_count": 6,
   "id": "9754559d",
   "metadata": {},
   "outputs": [
    {
     "name": "stdout",
     "output_type": "stream",
     "text": [
      "Enter a value 1:23\n",
      "Enter a value 2:43\n",
      "66.0\n"
     ]
    }
   ],
   "source": [
    "print(float(input(\"Enter a value 1:\")) + float(input(\"Enter a value 2:\")))\n"
   ]
  },
  {
   "cell_type": "code",
   "execution_count": 7,
   "id": "6e681448",
   "metadata": {},
   "outputs": [
    {
     "name": "stdout",
     "output_type": "stream",
     "text": [
      "Enter value 1: 50\n",
      "Enter value 2: 34\n",
      "the sum of the value is 84.0\n"
     ]
    }
   ],
   "source": [
    "a_var = float(input(\"Enter value 1: \"))\n",
    "b_var = float(input(\"Enter value 2: \"))\n",
    "print(f\"the sum of the value is {a_var + b_var}\")"
   ]
  },
  {
   "cell_type": "code",
   "execution_count": 10,
   "id": "d029b82d",
   "metadata": {},
   "outputs": [
    {
     "name": "stdout",
     "output_type": "stream",
     "text": [
      "Enter name: Luke\n",
      "Enter year you were born: 1999\n",
      "************************************************************\n",
      "My name is Luke.I was born 23years ago\n"
     ]
    }
   ],
   "source": [
    "name= input(\"Enter name: \")\n",
    "birthyear = int(input(\"Enter year you were born: \"))\n",
    "print(\"*\" * 60)\n",
    "print(f\"\"\"My name is {name}.I was born {2022 - birthyear} years ago\"\"\")"
   ]
  },
  {
   "cell_type": "markdown",
   "id": "1ced4a46",
   "metadata": {},
   "source": [
    "# Conditional"
   ]
  },
  {
   "cell_type": "markdown",
   "id": "d15121dc",
   "metadata": {},
   "source": [
    "1. 5/9*(f-32)\n",
    "2. 9/5* (c+32)"
   ]
  },
  {
   "cell_type": "code",
   "execution_count": null,
   "id": "a2e0945e",
   "metadata": {},
   "outputs": [],
   "source": [
    "temperature = float(input(\"Enter temperature value: \"))\n",
    "unit = input(\"Enter unit (f/c): \").lower()\n",
    "\n",
    "if unit ==\"f\":\n",
    "    celcius = (5/9) * (temperature_value - 32)\n",
    "    if celcius < 0:\n",
    "        kelvin = celcius + 273\n",
    "        print(f\"the temperature value in kelvin is {kelvin}\")\n",
    "        \n",
    "    print(f\"the temperature value from fahr to celcius is {round(celcius, 2)}degree celcius\")\n",
    "elif unit == \"c\":\n",
    "    \n",
    "    fahr = (9/5) * (temperature_value + 32)\n",
    "    print(f\"the temperature value from celcius to fahr is {round(fahr,2)}degree fahrenheit\" )\n",
    "else:\n",
    "    print(\"I don't understand inputs\")\n"
   ]
  },
  {
   "cell_type": "markdown",
   "id": "fd0be7d7",
   "metadata": {},
   "source": [
    "BMI = weight/height^2"
   ]
  },
  {
   "cell_type": "code",
   "execution_count": null,
   "id": "f537f6e0",
   "metadata": {},
   "outputs": [],
   "source": [
    "weight = float(input(\"Enter weight value: \"))\n",
    "height = float(input(\"Enter height value (m): \"))\n",
    "unit_weight = input(\"Enter unit of weight: \")\n",
    "unit_height = input(\"Enter unit height: \")\n",
    "\n",
    "if "
   ]
  },
  {
   "cell_type": "code",
   "execution_count": null,
   "id": "df023b56",
   "metadata": {},
   "outputs": [],
   "source": []
  },
  {
   "cell_type": "code",
   "execution_count": null,
   "id": "1a894fc4",
   "metadata": {},
   "outputs": [],
   "source": []
  },
  {
   "cell_type": "code",
   "execution_count": null,
   "id": "f25d725a",
   "metadata": {},
   "outputs": [],
   "source": []
  },
  {
   "cell_type": "code",
   "execution_count": null,
   "id": "bcdd045d",
   "metadata": {},
   "outputs": [],
   "source": []
  }
 ],
 "metadata": {
  "kernelspec": {
   "display_name": "Python 3 (ipykernel)",
   "language": "python",
   "name": "python3"
  },
  "language_info": {
   "codemirror_mode": {
    "name": "ipython",
    "version": 3
   },
   "file_extension": ".py",
   "mimetype": "text/x-python",
   "name": "python",
   "nbconvert_exporter": "python",
   "pygments_lexer": "ipython3",
   "version": "3.9.12"
  }
 },
 "nbformat": 4,
 "nbformat_minor": 5
}
